{
 "cells": [
  {
   "cell_type": "markdown",
   "id": "042a27a0",
   "metadata": {},
   "source": [
    "# Exploratory Data Analysis and data cleaning "
   ]
  },
  {
   "cell_type": "code",
   "execution_count": 39,
   "id": "b5dfce0e",
   "metadata": {},
   "outputs": [],
   "source": [
    "import pandas as pd\n",
    "import numpy as np\n",
    "import matplotlib.pyplot as plt\n",
    "import seaborn as sns"
   ]
  },
  {
   "cell_type": "markdown",
   "id": "fb2221a0",
   "metadata": {},
   "source": [
    "## Data Description"
   ]
  },
  {
   "cell_type": "markdown",
   "id": "3f464fc9",
   "metadata": {},
   "source": [
    "client_data.csv\n",
    "\n",
    "●\tid = client company identifier\\\n",
    "●\tactivity_new = category of the company’s activity\\\n",
    "●\tchannel_sales = code of the sales channel\\\n",
    "●\tcons_12m = electricity consumption of the past 12 months\\\n",
    "●\tcons_gas_12m = gas consumption of the past 12 months\\\n",
    "●\tcons_last_month = electricity consumption of the last month\\\n",
    "●\tdate_activ = date of activation of the contract\\\n",
    "●\tdate_end = registered date of the end of the contract\\\n",
    "●\tdate_modif_prod = date of the last modification of the product\\\n",
    "●\tdate_renewal = date of the next contract renewal\\\n",
    "●\tforecast_cons_12m = forecasted electricity consumption for next 12 months\\\n",
    "●\tforecast_cons_year = forecasted electricity consumption for the next calendar year\\\n",
    "●\tforecast_discount_energy = forecasted value of current discount\\\n",
    "●\tforecast_meter_rent_12m = forecasted bill of meter rental for the next 2 months\\\n",
    "●\tforecast_price_energy_off_peak = forecasted energy price for 1st period (off peak)\\\n",
    "●\tforecast_price_energy_peak = forecasted energy price for 2nd period (peak)\\\n",
    "●\tforecast_price_pow_off_peak = forecasted power price for 1st period (off peak)\\\n",
    "●\thas_gas = indicated if client is also a gas client\\\n",
    "●\timp_cons = current paid consumption\\\n",
    "●\tmargin_gross_pow_ele = gross margin on power subscription\\\n",
    "●\tmargin_net_pow_ele = net margin on power subscription\\\n",
    "●\tnb_prod_act = number of active products and services\\\n",
    "●\tnet_margin = total net margin\\\n",
    "●\tnum_years_antig = antiquity of the client (in number of years)\\\n",
    "●\torigin_up = code of the electricity campaign the customer first subscribed to\\\n",
    "●\tpow_max = subscribed power\\\n",
    "●\tchurn = has the client churned over the next 3 months\n",
    "\n",
    "\\\n",
    "price_data.csv\n",
    "\n",
    "●\tid = client company identifier\\\n",
    "●\tprice_date = reference date\\\n",
    "●\tprice_off_peak_var = price of energy for the 1st period (off peak)\\\n",
    "●\tprice_peak_var = price of energy for the 2nd period (peak)\\\n",
    "●\tprice_mid_peak_var = price of energy for the 3rd period (mid peak)\\\n",
    "●\tprice_off_peak_fix = price of power for the 1st period (off peak)\\\n",
    "●\tprice_peak_fix = price of power for the 2nd period (peak)\\\n",
    "●\tprice_mid_peak_fix = price of power for the 3rd period (mid peak)\n"
   ]
  },
  {
   "cell_type": "markdown",
   "id": "663739bb",
   "metadata": {},
   "source": [
    "## Import data frame"
   ]
  },
  {
   "cell_type": "code",
   "execution_count": 14,
   "id": "13c7621e",
   "metadata": {},
   "outputs": [],
   "source": [
    "client_df = pd.read_csv(\"/Users/zhenliu15471/code/zliu15471/BCG/raw_data/client_data.csv\")\n",
    "price_df = pd.read_csv(\"/Users/zhenliu15471/code/zliu15471/BCG/raw_data/price_data.csv\")"
   ]
  },
  {
   "cell_type": "code",
   "execution_count": 15,
   "id": "2efe25dd",
   "metadata": {},
   "outputs": [
    {
     "data": {
      "text/html": [
       "<div>\n",
       "<style scoped>\n",
       "    .dataframe tbody tr th:only-of-type {\n",
       "        vertical-align: middle;\n",
       "    }\n",
       "\n",
       "    .dataframe tbody tr th {\n",
       "        vertical-align: top;\n",
       "    }\n",
       "\n",
       "    .dataframe thead th {\n",
       "        text-align: right;\n",
       "    }\n",
       "</style>\n",
       "<table border=\"1\" class=\"dataframe\">\n",
       "  <thead>\n",
       "    <tr style=\"text-align: right;\">\n",
       "      <th></th>\n",
       "      <th>id</th>\n",
       "      <th>channel_sales</th>\n",
       "      <th>cons_12m</th>\n",
       "      <th>cons_gas_12m</th>\n",
       "      <th>cons_last_month</th>\n",
       "      <th>date_activ</th>\n",
       "      <th>date_end</th>\n",
       "      <th>date_modif_prod</th>\n",
       "      <th>date_renewal</th>\n",
       "      <th>forecast_cons_12m</th>\n",
       "      <th>...</th>\n",
       "      <th>has_gas</th>\n",
       "      <th>imp_cons</th>\n",
       "      <th>margin_gross_pow_ele</th>\n",
       "      <th>margin_net_pow_ele</th>\n",
       "      <th>nb_prod_act</th>\n",
       "      <th>net_margin</th>\n",
       "      <th>num_years_antig</th>\n",
       "      <th>origin_up</th>\n",
       "      <th>pow_max</th>\n",
       "      <th>churn</th>\n",
       "    </tr>\n",
       "  </thead>\n",
       "  <tbody>\n",
       "    <tr>\n",
       "      <th>0</th>\n",
       "      <td>24011ae4ebbe3035111d65fa7c15bc57</td>\n",
       "      <td>foosdfpfkusacimwkcsosbicdxkicaua</td>\n",
       "      <td>0</td>\n",
       "      <td>54946</td>\n",
       "      <td>0</td>\n",
       "      <td>2013-06-15</td>\n",
       "      <td>2016-06-15</td>\n",
       "      <td>2015-11-01</td>\n",
       "      <td>2015-06-23</td>\n",
       "      <td>0.00</td>\n",
       "      <td>...</td>\n",
       "      <td>t</td>\n",
       "      <td>0.00</td>\n",
       "      <td>25.44</td>\n",
       "      <td>25.44</td>\n",
       "      <td>2</td>\n",
       "      <td>678.99</td>\n",
       "      <td>3</td>\n",
       "      <td>lxidpiddsbxsbosboudacockeimpuepw</td>\n",
       "      <td>43.648</td>\n",
       "      <td>1</td>\n",
       "    </tr>\n",
       "    <tr>\n",
       "      <th>1</th>\n",
       "      <td>d29c2c54acc38ff3c0614d0a653813dd</td>\n",
       "      <td>MISSING</td>\n",
       "      <td>4660</td>\n",
       "      <td>0</td>\n",
       "      <td>0</td>\n",
       "      <td>2009-08-21</td>\n",
       "      <td>2016-08-30</td>\n",
       "      <td>2009-08-21</td>\n",
       "      <td>2015-08-31</td>\n",
       "      <td>189.95</td>\n",
       "      <td>...</td>\n",
       "      <td>f</td>\n",
       "      <td>0.00</td>\n",
       "      <td>16.38</td>\n",
       "      <td>16.38</td>\n",
       "      <td>1</td>\n",
       "      <td>18.89</td>\n",
       "      <td>6</td>\n",
       "      <td>kamkkxfxxuwbdslkwifmmcsiusiuosws</td>\n",
       "      <td>13.800</td>\n",
       "      <td>0</td>\n",
       "    </tr>\n",
       "    <tr>\n",
       "      <th>2</th>\n",
       "      <td>764c75f661154dac3a6c254cd082ea7d</td>\n",
       "      <td>foosdfpfkusacimwkcsosbicdxkicaua</td>\n",
       "      <td>544</td>\n",
       "      <td>0</td>\n",
       "      <td>0</td>\n",
       "      <td>2010-04-16</td>\n",
       "      <td>2016-04-16</td>\n",
       "      <td>2010-04-16</td>\n",
       "      <td>2015-04-17</td>\n",
       "      <td>47.96</td>\n",
       "      <td>...</td>\n",
       "      <td>f</td>\n",
       "      <td>0.00</td>\n",
       "      <td>28.60</td>\n",
       "      <td>28.60</td>\n",
       "      <td>1</td>\n",
       "      <td>6.60</td>\n",
       "      <td>6</td>\n",
       "      <td>kamkkxfxxuwbdslkwifmmcsiusiuosws</td>\n",
       "      <td>13.856</td>\n",
       "      <td>0</td>\n",
       "    </tr>\n",
       "    <tr>\n",
       "      <th>3</th>\n",
       "      <td>bba03439a292a1e166f80264c16191cb</td>\n",
       "      <td>lmkebamcaaclubfxadlmueccxoimlema</td>\n",
       "      <td>1584</td>\n",
       "      <td>0</td>\n",
       "      <td>0</td>\n",
       "      <td>2010-03-30</td>\n",
       "      <td>2016-03-30</td>\n",
       "      <td>2010-03-30</td>\n",
       "      <td>2015-03-31</td>\n",
       "      <td>240.04</td>\n",
       "      <td>...</td>\n",
       "      <td>f</td>\n",
       "      <td>0.00</td>\n",
       "      <td>30.22</td>\n",
       "      <td>30.22</td>\n",
       "      <td>1</td>\n",
       "      <td>25.46</td>\n",
       "      <td>6</td>\n",
       "      <td>kamkkxfxxuwbdslkwifmmcsiusiuosws</td>\n",
       "      <td>13.200</td>\n",
       "      <td>0</td>\n",
       "    </tr>\n",
       "    <tr>\n",
       "      <th>4</th>\n",
       "      <td>149d57cf92fc41cf94415803a877cb4b</td>\n",
       "      <td>MISSING</td>\n",
       "      <td>4425</td>\n",
       "      <td>0</td>\n",
       "      <td>526</td>\n",
       "      <td>2010-01-13</td>\n",
       "      <td>2016-03-07</td>\n",
       "      <td>2010-01-13</td>\n",
       "      <td>2015-03-09</td>\n",
       "      <td>445.75</td>\n",
       "      <td>...</td>\n",
       "      <td>f</td>\n",
       "      <td>52.32</td>\n",
       "      <td>44.91</td>\n",
       "      <td>44.91</td>\n",
       "      <td>1</td>\n",
       "      <td>47.98</td>\n",
       "      <td>6</td>\n",
       "      <td>kamkkxfxxuwbdslkwifmmcsiusiuosws</td>\n",
       "      <td>19.800</td>\n",
       "      <td>0</td>\n",
       "    </tr>\n",
       "  </tbody>\n",
       "</table>\n",
       "<p>5 rows × 26 columns</p>\n",
       "</div>"
      ],
      "text/plain": [
       "                                 id                     channel_sales  \\\n",
       "0  24011ae4ebbe3035111d65fa7c15bc57  foosdfpfkusacimwkcsosbicdxkicaua   \n",
       "1  d29c2c54acc38ff3c0614d0a653813dd                           MISSING   \n",
       "2  764c75f661154dac3a6c254cd082ea7d  foosdfpfkusacimwkcsosbicdxkicaua   \n",
       "3  bba03439a292a1e166f80264c16191cb  lmkebamcaaclubfxadlmueccxoimlema   \n",
       "4  149d57cf92fc41cf94415803a877cb4b                           MISSING   \n",
       "\n",
       "   cons_12m  cons_gas_12m  cons_last_month  date_activ    date_end  \\\n",
       "0         0         54946                0  2013-06-15  2016-06-15   \n",
       "1      4660             0                0  2009-08-21  2016-08-30   \n",
       "2       544             0                0  2010-04-16  2016-04-16   \n",
       "3      1584             0                0  2010-03-30  2016-03-30   \n",
       "4      4425             0              526  2010-01-13  2016-03-07   \n",
       "\n",
       "  date_modif_prod date_renewal  forecast_cons_12m  ...  has_gas  imp_cons  \\\n",
       "0      2015-11-01   2015-06-23               0.00  ...        t      0.00   \n",
       "1      2009-08-21   2015-08-31             189.95  ...        f      0.00   \n",
       "2      2010-04-16   2015-04-17              47.96  ...        f      0.00   \n",
       "3      2010-03-30   2015-03-31             240.04  ...        f      0.00   \n",
       "4      2010-01-13   2015-03-09             445.75  ...        f     52.32   \n",
       "\n",
       "   margin_gross_pow_ele  margin_net_pow_ele  nb_prod_act  net_margin  \\\n",
       "0                 25.44               25.44            2      678.99   \n",
       "1                 16.38               16.38            1       18.89   \n",
       "2                 28.60               28.60            1        6.60   \n",
       "3                 30.22               30.22            1       25.46   \n",
       "4                 44.91               44.91            1       47.98   \n",
       "\n",
       "  num_years_antig                         origin_up  pow_max  churn  \n",
       "0               3  lxidpiddsbxsbosboudacockeimpuepw   43.648      1  \n",
       "1               6  kamkkxfxxuwbdslkwifmmcsiusiuosws   13.800      0  \n",
       "2               6  kamkkxfxxuwbdslkwifmmcsiusiuosws   13.856      0  \n",
       "3               6  kamkkxfxxuwbdslkwifmmcsiusiuosws   13.200      0  \n",
       "4               6  kamkkxfxxuwbdslkwifmmcsiusiuosws   19.800      0  \n",
       "\n",
       "[5 rows x 26 columns]"
      ]
     },
     "execution_count": 15,
     "metadata": {},
     "output_type": "execute_result"
    }
   ],
   "source": [
    "client_df.head()"
   ]
  },
  {
   "cell_type": "code",
   "execution_count": 16,
   "id": "4509a0e6",
   "metadata": {},
   "outputs": [
    {
     "data": {
      "text/html": [
       "<div>\n",
       "<style scoped>\n",
       "    .dataframe tbody tr th:only-of-type {\n",
       "        vertical-align: middle;\n",
       "    }\n",
       "\n",
       "    .dataframe tbody tr th {\n",
       "        vertical-align: top;\n",
       "    }\n",
       "\n",
       "    .dataframe thead th {\n",
       "        text-align: right;\n",
       "    }\n",
       "</style>\n",
       "<table border=\"1\" class=\"dataframe\">\n",
       "  <thead>\n",
       "    <tr style=\"text-align: right;\">\n",
       "      <th></th>\n",
       "      <th>id</th>\n",
       "      <th>price_date</th>\n",
       "      <th>price_off_peak_var</th>\n",
       "      <th>price_peak_var</th>\n",
       "      <th>price_mid_peak_var</th>\n",
       "      <th>price_off_peak_fix</th>\n",
       "      <th>price_peak_fix</th>\n",
       "      <th>price_mid_peak_fix</th>\n",
       "    </tr>\n",
       "  </thead>\n",
       "  <tbody>\n",
       "    <tr>\n",
       "      <th>0</th>\n",
       "      <td>038af19179925da21a25619c5a24b745</td>\n",
       "      <td>2015-01-01</td>\n",
       "      <td>0.151367</td>\n",
       "      <td>0.0</td>\n",
       "      <td>0.0</td>\n",
       "      <td>44.266931</td>\n",
       "      <td>0.0</td>\n",
       "      <td>0.0</td>\n",
       "    </tr>\n",
       "    <tr>\n",
       "      <th>1</th>\n",
       "      <td>038af19179925da21a25619c5a24b745</td>\n",
       "      <td>2015-02-01</td>\n",
       "      <td>0.151367</td>\n",
       "      <td>0.0</td>\n",
       "      <td>0.0</td>\n",
       "      <td>44.266931</td>\n",
       "      <td>0.0</td>\n",
       "      <td>0.0</td>\n",
       "    </tr>\n",
       "    <tr>\n",
       "      <th>2</th>\n",
       "      <td>038af19179925da21a25619c5a24b745</td>\n",
       "      <td>2015-03-01</td>\n",
       "      <td>0.151367</td>\n",
       "      <td>0.0</td>\n",
       "      <td>0.0</td>\n",
       "      <td>44.266931</td>\n",
       "      <td>0.0</td>\n",
       "      <td>0.0</td>\n",
       "    </tr>\n",
       "    <tr>\n",
       "      <th>3</th>\n",
       "      <td>038af19179925da21a25619c5a24b745</td>\n",
       "      <td>2015-04-01</td>\n",
       "      <td>0.149626</td>\n",
       "      <td>0.0</td>\n",
       "      <td>0.0</td>\n",
       "      <td>44.266931</td>\n",
       "      <td>0.0</td>\n",
       "      <td>0.0</td>\n",
       "    </tr>\n",
       "    <tr>\n",
       "      <th>4</th>\n",
       "      <td>038af19179925da21a25619c5a24b745</td>\n",
       "      <td>2015-05-01</td>\n",
       "      <td>0.149626</td>\n",
       "      <td>0.0</td>\n",
       "      <td>0.0</td>\n",
       "      <td>44.266931</td>\n",
       "      <td>0.0</td>\n",
       "      <td>0.0</td>\n",
       "    </tr>\n",
       "  </tbody>\n",
       "</table>\n",
       "</div>"
      ],
      "text/plain": [
       "                                 id  price_date  price_off_peak_var  \\\n",
       "0  038af19179925da21a25619c5a24b745  2015-01-01            0.151367   \n",
       "1  038af19179925da21a25619c5a24b745  2015-02-01            0.151367   \n",
       "2  038af19179925da21a25619c5a24b745  2015-03-01            0.151367   \n",
       "3  038af19179925da21a25619c5a24b745  2015-04-01            0.149626   \n",
       "4  038af19179925da21a25619c5a24b745  2015-05-01            0.149626   \n",
       "\n",
       "   price_peak_var  price_mid_peak_var  price_off_peak_fix  price_peak_fix  \\\n",
       "0             0.0                 0.0           44.266931             0.0   \n",
       "1             0.0                 0.0           44.266931             0.0   \n",
       "2             0.0                 0.0           44.266931             0.0   \n",
       "3             0.0                 0.0           44.266931             0.0   \n",
       "4             0.0                 0.0           44.266931             0.0   \n",
       "\n",
       "   price_mid_peak_fix  \n",
       "0                 0.0  \n",
       "1                 0.0  \n",
       "2                 0.0  \n",
       "3                 0.0  \n",
       "4                 0.0  "
      ]
     },
     "execution_count": 16,
     "metadata": {},
     "output_type": "execute_result"
    }
   ],
   "source": [
    "price_df.head()"
   ]
  },
  {
   "cell_type": "markdown",
   "id": "e6a95f30",
   "metadata": {},
   "source": [
    "### data types"
   ]
  },
  {
   "cell_type": "code",
   "execution_count": 18,
   "id": "381f2a61",
   "metadata": {},
   "outputs": [
    {
     "data": {
      "text/plain": [
       "float64    11\n",
       "object      8\n",
       "int64       7\n",
       "dtype: int64"
      ]
     },
     "execution_count": 18,
     "metadata": {},
     "output_type": "execute_result"
    }
   ],
   "source": [
    "client_df.dtypes.value_counts()"
   ]
  },
  {
   "cell_type": "code",
   "execution_count": 30,
   "id": "c19a577f",
   "metadata": {},
   "outputs": [
    {
     "data": {
      "text/plain": [
       "id                                 object\n",
       "channel_sales                      object\n",
       "cons_12m                            int64\n",
       "cons_gas_12m                        int64\n",
       "cons_last_month                     int64\n",
       "date_activ                         object\n",
       "date_end                           object\n",
       "date_modif_prod                    object\n",
       "date_renewal                       object\n",
       "forecast_cons_12m                 float64\n",
       "forecast_cons_year                  int64\n",
       "forecast_discount_energy          float64\n",
       "forecast_meter_rent_12m           float64\n",
       "forecast_price_energy_off_peak    float64\n",
       "forecast_price_energy_peak        float64\n",
       "forecast_price_pow_off_peak       float64\n",
       "has_gas                            object\n",
       "imp_cons                          float64\n",
       "margin_gross_pow_ele              float64\n",
       "margin_net_pow_ele                float64\n",
       "nb_prod_act                         int64\n",
       "net_margin                        float64\n",
       "num_years_antig                     int64\n",
       "origin_up                          object\n",
       "pow_max                           float64\n",
       "churn                               int64\n",
       "dtype: object"
      ]
     },
     "execution_count": 30,
     "metadata": {},
     "output_type": "execute_result"
    }
   ],
   "source": [
    "client_df.dtypes"
   ]
  },
  {
   "cell_type": "code",
   "execution_count": 21,
   "id": "2bbd75c1",
   "metadata": {},
   "outputs": [
    {
     "data": {
      "text/plain": [
       "float64    6\n",
       "object     2\n",
       "dtype: int64"
      ]
     },
     "execution_count": 21,
     "metadata": {},
     "output_type": "execute_result"
    }
   ],
   "source": [
    "price_df.dtypes.value_counts()"
   ]
  },
  {
   "cell_type": "code",
   "execution_count": 31,
   "id": "2c0fdfbc",
   "metadata": {},
   "outputs": [
    {
     "data": {
      "text/plain": [
       "id                     object\n",
       "price_date             object\n",
       "price_off_peak_var    float64\n",
       "price_peak_var        float64\n",
       "price_mid_peak_var    float64\n",
       "price_off_peak_fix    float64\n",
       "price_peak_fix        float64\n",
       "price_mid_peak_fix    float64\n",
       "dtype: object"
      ]
     },
     "execution_count": 31,
     "metadata": {},
     "output_type": "execute_result"
    }
   ],
   "source": [
    "price_df.dtypes"
   ]
  },
  {
   "cell_type": "markdown",
   "id": "3ee23170",
   "metadata": {},
   "source": [
    "### unique value "
   ]
  },
  {
   "cell_type": "code",
   "execution_count": 23,
   "id": "78fddfb1",
   "metadata": {},
   "outputs": [
    {
     "data": {
      "text/plain": [
       "id                                14606\n",
       "channel_sales                         8\n",
       "cons_12m                          11065\n",
       "cons_gas_12m                       2112\n",
       "cons_last_month                    4751\n",
       "date_activ                         1796\n",
       "date_end                            368\n",
       "date_modif_prod                    2129\n",
       "date_renewal                        386\n",
       "forecast_cons_12m                 13993\n",
       "forecast_cons_year                 4218\n",
       "forecast_discount_energy             12\n",
       "forecast_meter_rent_12m            3528\n",
       "forecast_price_energy_off_peak      516\n",
       "forecast_price_energy_peak          329\n",
       "forecast_price_pow_off_peak          41\n",
       "has_gas                               2\n",
       "imp_cons                           7752\n",
       "margin_gross_pow_ele               2391\n",
       "margin_net_pow_ele                 2391\n",
       "nb_prod_act                          10\n",
       "net_margin                        11965\n",
       "num_years_antig                      13\n",
       "origin_up                             6\n",
       "pow_max                             698\n",
       "churn                                 2\n",
       "dtype: int64"
      ]
     },
     "execution_count": 23,
     "metadata": {},
     "output_type": "execute_result"
    }
   ],
   "source": [
    "client_df.nunique()"
   ]
  },
  {
   "cell_type": "code",
   "execution_count": 24,
   "id": "a85da5c8",
   "metadata": {},
   "outputs": [
    {
     "data": {
      "text/plain": [
       "id                    16096\n",
       "price_date               12\n",
       "price_off_peak_var     1853\n",
       "price_peak_var         1189\n",
       "price_mid_peak_var      711\n",
       "price_off_peak_fix       66\n",
       "price_peak_fix           31\n",
       "price_mid_peak_fix       28\n",
       "dtype: int64"
      ]
     },
     "execution_count": 24,
     "metadata": {},
     "output_type": "execute_result"
    }
   ],
   "source": [
    "price_df.nunique()"
   ]
  },
  {
   "cell_type": "markdown",
   "id": "179624b2",
   "metadata": {},
   "source": [
    "### duplicated value "
   ]
  },
  {
   "cell_type": "code",
   "execution_count": 25,
   "id": "6d100f47",
   "metadata": {},
   "outputs": [
    {
     "data": {
      "text/plain": [
       "0"
      ]
     },
     "execution_count": 25,
     "metadata": {},
     "output_type": "execute_result"
    }
   ],
   "source": [
    "client_df.duplicated().sum()"
   ]
  },
  {
   "cell_type": "code",
   "execution_count": 26,
   "id": "ac1b62ab",
   "metadata": {},
   "outputs": [
    {
     "data": {
      "text/plain": [
       "0"
      ]
     },
     "execution_count": 26,
     "metadata": {},
     "output_type": "execute_result"
    }
   ],
   "source": [
    "price_df.duplicated().sum()"
   ]
  },
  {
   "cell_type": "markdown",
   "id": "2f989f71",
   "metadata": {},
   "source": [
    "### Missing values"
   ]
  },
  {
   "cell_type": "code",
   "execution_count": 28,
   "id": "280a7d75",
   "metadata": {},
   "outputs": [
    {
     "data": {
      "text/plain": [
       "id                                0.0\n",
       "channel_sales                     0.0\n",
       "cons_12m                          0.0\n",
       "cons_gas_12m                      0.0\n",
       "cons_last_month                   0.0\n",
       "date_activ                        0.0\n",
       "date_end                          0.0\n",
       "date_modif_prod                   0.0\n",
       "date_renewal                      0.0\n",
       "forecast_cons_12m                 0.0\n",
       "forecast_cons_year                0.0\n",
       "forecast_discount_energy          0.0\n",
       "forecast_meter_rent_12m           0.0\n",
       "forecast_price_energy_off_peak    0.0\n",
       "forecast_price_energy_peak        0.0\n",
       "forecast_price_pow_off_peak       0.0\n",
       "has_gas                           0.0\n",
       "imp_cons                          0.0\n",
       "margin_gross_pow_ele              0.0\n",
       "margin_net_pow_ele                0.0\n",
       "nb_prod_act                       0.0\n",
       "net_margin                        0.0\n",
       "num_years_antig                   0.0\n",
       "origin_up                         0.0\n",
       "pow_max                           0.0\n",
       "churn                             0.0\n",
       "dtype: float64"
      ]
     },
     "execution_count": 28,
     "metadata": {},
     "output_type": "execute_result"
    }
   ],
   "source": [
    "(client_df.isnull().sum()/len(client_df))*100"
   ]
  },
  {
   "cell_type": "code",
   "execution_count": 32,
   "id": "d54ba8f2",
   "metadata": {},
   "outputs": [
    {
     "data": {
      "text/plain": [
       "id                    0.0\n",
       "price_date            0.0\n",
       "price_off_peak_var    0.0\n",
       "price_peak_var        0.0\n",
       "price_mid_peak_var    0.0\n",
       "price_off_peak_fix    0.0\n",
       "price_peak_fix        0.0\n",
       "price_mid_peak_fix    0.0\n",
       "dtype: float64"
      ]
     },
     "execution_count": 32,
     "metadata": {},
     "output_type": "execute_result"
    }
   ],
   "source": [
    "price_df.isnull().mean()*100"
   ]
  },
  {
   "cell_type": "markdown",
   "id": "517a4675",
   "metadata": {},
   "source": [
    "### Data statistics"
   ]
  },
  {
   "cell_type": "code",
   "execution_count": 34,
   "id": "31e49af5",
   "metadata": {},
   "outputs": [
    {
     "data": {
      "text/html": [
       "<div>\n",
       "<style scoped>\n",
       "    .dataframe tbody tr th:only-of-type {\n",
       "        vertical-align: middle;\n",
       "    }\n",
       "\n",
       "    .dataframe tbody tr th {\n",
       "        vertical-align: top;\n",
       "    }\n",
       "\n",
       "    .dataframe thead th {\n",
       "        text-align: right;\n",
       "    }\n",
       "</style>\n",
       "<table border=\"1\" class=\"dataframe\">\n",
       "  <thead>\n",
       "    <tr style=\"text-align: right;\">\n",
       "      <th></th>\n",
       "      <th>cons_12m</th>\n",
       "      <th>cons_gas_12m</th>\n",
       "      <th>cons_last_month</th>\n",
       "      <th>forecast_cons_12m</th>\n",
       "      <th>forecast_cons_year</th>\n",
       "      <th>forecast_discount_energy</th>\n",
       "      <th>forecast_meter_rent_12m</th>\n",
       "      <th>forecast_price_energy_off_peak</th>\n",
       "      <th>forecast_price_energy_peak</th>\n",
       "      <th>forecast_price_pow_off_peak</th>\n",
       "      <th>imp_cons</th>\n",
       "      <th>margin_gross_pow_ele</th>\n",
       "      <th>margin_net_pow_ele</th>\n",
       "      <th>nb_prod_act</th>\n",
       "      <th>net_margin</th>\n",
       "      <th>num_years_antig</th>\n",
       "      <th>pow_max</th>\n",
       "      <th>churn</th>\n",
       "    </tr>\n",
       "  </thead>\n",
       "  <tbody>\n",
       "    <tr>\n",
       "      <th>count</th>\n",
       "      <td>1.460600e+04</td>\n",
       "      <td>1.460600e+04</td>\n",
       "      <td>14606.000000</td>\n",
       "      <td>14606.000000</td>\n",
       "      <td>14606.000000</td>\n",
       "      <td>14606.000000</td>\n",
       "      <td>14606.000000</td>\n",
       "      <td>14606.000000</td>\n",
       "      <td>14606.000000</td>\n",
       "      <td>14606.000000</td>\n",
       "      <td>14606.000000</td>\n",
       "      <td>14606.000000</td>\n",
       "      <td>14606.000000</td>\n",
       "      <td>14606.000000</td>\n",
       "      <td>14606.000000</td>\n",
       "      <td>14606.000000</td>\n",
       "      <td>14606.000000</td>\n",
       "      <td>14606.000000</td>\n",
       "    </tr>\n",
       "    <tr>\n",
       "      <th>mean</th>\n",
       "      <td>1.592203e+05</td>\n",
       "      <td>2.809238e+04</td>\n",
       "      <td>16090.269752</td>\n",
       "      <td>1868.614880</td>\n",
       "      <td>1399.762906</td>\n",
       "      <td>0.966726</td>\n",
       "      <td>63.086871</td>\n",
       "      <td>0.137283</td>\n",
       "      <td>0.050491</td>\n",
       "      <td>43.130056</td>\n",
       "      <td>152.786896</td>\n",
       "      <td>24.565121</td>\n",
       "      <td>24.562517</td>\n",
       "      <td>1.292346</td>\n",
       "      <td>189.264522</td>\n",
       "      <td>4.997809</td>\n",
       "      <td>18.135136</td>\n",
       "      <td>0.097152</td>\n",
       "    </tr>\n",
       "    <tr>\n",
       "      <th>std</th>\n",
       "      <td>5.734653e+05</td>\n",
       "      <td>1.629731e+05</td>\n",
       "      <td>64364.196422</td>\n",
       "      <td>2387.571531</td>\n",
       "      <td>3247.786255</td>\n",
       "      <td>5.108289</td>\n",
       "      <td>66.165783</td>\n",
       "      <td>0.024623</td>\n",
       "      <td>0.049037</td>\n",
       "      <td>4.485988</td>\n",
       "      <td>341.369366</td>\n",
       "      <td>20.231172</td>\n",
       "      <td>20.230280</td>\n",
       "      <td>0.709774</td>\n",
       "      <td>311.798130</td>\n",
       "      <td>1.611749</td>\n",
       "      <td>13.534743</td>\n",
       "      <td>0.296175</td>\n",
       "    </tr>\n",
       "    <tr>\n",
       "      <th>min</th>\n",
       "      <td>0.000000e+00</td>\n",
       "      <td>0.000000e+00</td>\n",
       "      <td>0.000000</td>\n",
       "      <td>0.000000</td>\n",
       "      <td>0.000000</td>\n",
       "      <td>0.000000</td>\n",
       "      <td>0.000000</td>\n",
       "      <td>0.000000</td>\n",
       "      <td>0.000000</td>\n",
       "      <td>0.000000</td>\n",
       "      <td>0.000000</td>\n",
       "      <td>0.000000</td>\n",
       "      <td>0.000000</td>\n",
       "      <td>1.000000</td>\n",
       "      <td>0.000000</td>\n",
       "      <td>1.000000</td>\n",
       "      <td>3.300000</td>\n",
       "      <td>0.000000</td>\n",
       "    </tr>\n",
       "    <tr>\n",
       "      <th>25%</th>\n",
       "      <td>5.674750e+03</td>\n",
       "      <td>0.000000e+00</td>\n",
       "      <td>0.000000</td>\n",
       "      <td>494.995000</td>\n",
       "      <td>0.000000</td>\n",
       "      <td>0.000000</td>\n",
       "      <td>16.180000</td>\n",
       "      <td>0.116340</td>\n",
       "      <td>0.000000</td>\n",
       "      <td>40.606701</td>\n",
       "      <td>0.000000</td>\n",
       "      <td>14.280000</td>\n",
       "      <td>14.280000</td>\n",
       "      <td>1.000000</td>\n",
       "      <td>50.712500</td>\n",
       "      <td>4.000000</td>\n",
       "      <td>12.500000</td>\n",
       "      <td>0.000000</td>\n",
       "    </tr>\n",
       "    <tr>\n",
       "      <th>50%</th>\n",
       "      <td>1.411550e+04</td>\n",
       "      <td>0.000000e+00</td>\n",
       "      <td>792.500000</td>\n",
       "      <td>1112.875000</td>\n",
       "      <td>314.000000</td>\n",
       "      <td>0.000000</td>\n",
       "      <td>18.795000</td>\n",
       "      <td>0.143166</td>\n",
       "      <td>0.084138</td>\n",
       "      <td>44.311378</td>\n",
       "      <td>37.395000</td>\n",
       "      <td>21.640000</td>\n",
       "      <td>21.640000</td>\n",
       "      <td>1.000000</td>\n",
       "      <td>112.530000</td>\n",
       "      <td>5.000000</td>\n",
       "      <td>13.856000</td>\n",
       "      <td>0.000000</td>\n",
       "    </tr>\n",
       "    <tr>\n",
       "      <th>75%</th>\n",
       "      <td>4.076375e+04</td>\n",
       "      <td>0.000000e+00</td>\n",
       "      <td>3383.000000</td>\n",
       "      <td>2401.790000</td>\n",
       "      <td>1745.750000</td>\n",
       "      <td>0.000000</td>\n",
       "      <td>131.030000</td>\n",
       "      <td>0.146348</td>\n",
       "      <td>0.098837</td>\n",
       "      <td>44.311378</td>\n",
       "      <td>193.980000</td>\n",
       "      <td>29.880000</td>\n",
       "      <td>29.880000</td>\n",
       "      <td>1.000000</td>\n",
       "      <td>243.097500</td>\n",
       "      <td>6.000000</td>\n",
       "      <td>19.172500</td>\n",
       "      <td>0.000000</td>\n",
       "    </tr>\n",
       "    <tr>\n",
       "      <th>max</th>\n",
       "      <td>6.207104e+06</td>\n",
       "      <td>4.154590e+06</td>\n",
       "      <td>771203.000000</td>\n",
       "      <td>82902.830000</td>\n",
       "      <td>175375.000000</td>\n",
       "      <td>30.000000</td>\n",
       "      <td>599.310000</td>\n",
       "      <td>0.273963</td>\n",
       "      <td>0.195975</td>\n",
       "      <td>59.266378</td>\n",
       "      <td>15042.790000</td>\n",
       "      <td>374.640000</td>\n",
       "      <td>374.640000</td>\n",
       "      <td>32.000000</td>\n",
       "      <td>24570.650000</td>\n",
       "      <td>13.000000</td>\n",
       "      <td>320.000000</td>\n",
       "      <td>1.000000</td>\n",
       "    </tr>\n",
       "  </tbody>\n",
       "</table>\n",
       "</div>"
      ],
      "text/plain": [
       "           cons_12m  cons_gas_12m  cons_last_month  forecast_cons_12m  \\\n",
       "count  1.460600e+04  1.460600e+04     14606.000000       14606.000000   \n",
       "mean   1.592203e+05  2.809238e+04     16090.269752        1868.614880   \n",
       "std    5.734653e+05  1.629731e+05     64364.196422        2387.571531   \n",
       "min    0.000000e+00  0.000000e+00         0.000000           0.000000   \n",
       "25%    5.674750e+03  0.000000e+00         0.000000         494.995000   \n",
       "50%    1.411550e+04  0.000000e+00       792.500000        1112.875000   \n",
       "75%    4.076375e+04  0.000000e+00      3383.000000        2401.790000   \n",
       "max    6.207104e+06  4.154590e+06    771203.000000       82902.830000   \n",
       "\n",
       "       forecast_cons_year  forecast_discount_energy  forecast_meter_rent_12m  \\\n",
       "count        14606.000000              14606.000000             14606.000000   \n",
       "mean          1399.762906                  0.966726                63.086871   \n",
       "std           3247.786255                  5.108289                66.165783   \n",
       "min              0.000000                  0.000000                 0.000000   \n",
       "25%              0.000000                  0.000000                16.180000   \n",
       "50%            314.000000                  0.000000                18.795000   \n",
       "75%           1745.750000                  0.000000               131.030000   \n",
       "max         175375.000000                 30.000000               599.310000   \n",
       "\n",
       "       forecast_price_energy_off_peak  forecast_price_energy_peak  \\\n",
       "count                    14606.000000                14606.000000   \n",
       "mean                         0.137283                    0.050491   \n",
       "std                          0.024623                    0.049037   \n",
       "min                          0.000000                    0.000000   \n",
       "25%                          0.116340                    0.000000   \n",
       "50%                          0.143166                    0.084138   \n",
       "75%                          0.146348                    0.098837   \n",
       "max                          0.273963                    0.195975   \n",
       "\n",
       "       forecast_price_pow_off_peak      imp_cons  margin_gross_pow_ele  \\\n",
       "count                 14606.000000  14606.000000          14606.000000   \n",
       "mean                     43.130056    152.786896             24.565121   \n",
       "std                       4.485988    341.369366             20.231172   \n",
       "min                       0.000000      0.000000              0.000000   \n",
       "25%                      40.606701      0.000000             14.280000   \n",
       "50%                      44.311378     37.395000             21.640000   \n",
       "75%                      44.311378    193.980000             29.880000   \n",
       "max                      59.266378  15042.790000            374.640000   \n",
       "\n",
       "       margin_net_pow_ele   nb_prod_act    net_margin  num_years_antig  \\\n",
       "count        14606.000000  14606.000000  14606.000000     14606.000000   \n",
       "mean            24.562517      1.292346    189.264522         4.997809   \n",
       "std             20.230280      0.709774    311.798130         1.611749   \n",
       "min              0.000000      1.000000      0.000000         1.000000   \n",
       "25%             14.280000      1.000000     50.712500         4.000000   \n",
       "50%             21.640000      1.000000    112.530000         5.000000   \n",
       "75%             29.880000      1.000000    243.097500         6.000000   \n",
       "max            374.640000     32.000000  24570.650000        13.000000   \n",
       "\n",
       "            pow_max         churn  \n",
       "count  14606.000000  14606.000000  \n",
       "mean      18.135136      0.097152  \n",
       "std       13.534743      0.296175  \n",
       "min        3.300000      0.000000  \n",
       "25%       12.500000      0.000000  \n",
       "50%       13.856000      0.000000  \n",
       "75%       19.172500      0.000000  \n",
       "max      320.000000      1.000000  "
      ]
     },
     "execution_count": 34,
     "metadata": {},
     "output_type": "execute_result"
    }
   ],
   "source": [
    "client_df.describe()"
   ]
  },
  {
   "cell_type": "code",
   "execution_count": 35,
   "id": "ad43bb31",
   "metadata": {},
   "outputs": [
    {
     "data": {
      "text/html": [
       "<div>\n",
       "<style scoped>\n",
       "    .dataframe tbody tr th:only-of-type {\n",
       "        vertical-align: middle;\n",
       "    }\n",
       "\n",
       "    .dataframe tbody tr th {\n",
       "        vertical-align: top;\n",
       "    }\n",
       "\n",
       "    .dataframe thead th {\n",
       "        text-align: right;\n",
       "    }\n",
       "</style>\n",
       "<table border=\"1\" class=\"dataframe\">\n",
       "  <thead>\n",
       "    <tr style=\"text-align: right;\">\n",
       "      <th></th>\n",
       "      <th>price_off_peak_var</th>\n",
       "      <th>price_peak_var</th>\n",
       "      <th>price_mid_peak_var</th>\n",
       "      <th>price_off_peak_fix</th>\n",
       "      <th>price_peak_fix</th>\n",
       "      <th>price_mid_peak_fix</th>\n",
       "    </tr>\n",
       "  </thead>\n",
       "  <tbody>\n",
       "    <tr>\n",
       "      <th>count</th>\n",
       "      <td>193002.000000</td>\n",
       "      <td>193002.000000</td>\n",
       "      <td>193002.000000</td>\n",
       "      <td>193002.000000</td>\n",
       "      <td>193002.000000</td>\n",
       "      <td>193002.000000</td>\n",
       "    </tr>\n",
       "    <tr>\n",
       "      <th>mean</th>\n",
       "      <td>0.141027</td>\n",
       "      <td>0.054630</td>\n",
       "      <td>0.030496</td>\n",
       "      <td>43.334477</td>\n",
       "      <td>10.622875</td>\n",
       "      <td>6.409984</td>\n",
       "    </tr>\n",
       "    <tr>\n",
       "      <th>std</th>\n",
       "      <td>0.025032</td>\n",
       "      <td>0.049924</td>\n",
       "      <td>0.036298</td>\n",
       "      <td>5.410297</td>\n",
       "      <td>12.841895</td>\n",
       "      <td>7.773592</td>\n",
       "    </tr>\n",
       "    <tr>\n",
       "      <th>min</th>\n",
       "      <td>0.000000</td>\n",
       "      <td>0.000000</td>\n",
       "      <td>0.000000</td>\n",
       "      <td>0.000000</td>\n",
       "      <td>0.000000</td>\n",
       "      <td>0.000000</td>\n",
       "    </tr>\n",
       "    <tr>\n",
       "      <th>25%</th>\n",
       "      <td>0.125976</td>\n",
       "      <td>0.000000</td>\n",
       "      <td>0.000000</td>\n",
       "      <td>40.728885</td>\n",
       "      <td>0.000000</td>\n",
       "      <td>0.000000</td>\n",
       "    </tr>\n",
       "    <tr>\n",
       "      <th>50%</th>\n",
       "      <td>0.146033</td>\n",
       "      <td>0.085483</td>\n",
       "      <td>0.000000</td>\n",
       "      <td>44.266930</td>\n",
       "      <td>0.000000</td>\n",
       "      <td>0.000000</td>\n",
       "    </tr>\n",
       "    <tr>\n",
       "      <th>75%</th>\n",
       "      <td>0.151635</td>\n",
       "      <td>0.101673</td>\n",
       "      <td>0.072558</td>\n",
       "      <td>44.444710</td>\n",
       "      <td>24.339581</td>\n",
       "      <td>16.226389</td>\n",
       "    </tr>\n",
       "    <tr>\n",
       "      <th>max</th>\n",
       "      <td>0.280700</td>\n",
       "      <td>0.229788</td>\n",
       "      <td>0.114102</td>\n",
       "      <td>59.444710</td>\n",
       "      <td>36.490692</td>\n",
       "      <td>17.458221</td>\n",
       "    </tr>\n",
       "  </tbody>\n",
       "</table>\n",
       "</div>"
      ],
      "text/plain": [
       "       price_off_peak_var  price_peak_var  price_mid_peak_var  \\\n",
       "count       193002.000000   193002.000000       193002.000000   \n",
       "mean             0.141027        0.054630            0.030496   \n",
       "std              0.025032        0.049924            0.036298   \n",
       "min              0.000000        0.000000            0.000000   \n",
       "25%              0.125976        0.000000            0.000000   \n",
       "50%              0.146033        0.085483            0.000000   \n",
       "75%              0.151635        0.101673            0.072558   \n",
       "max              0.280700        0.229788            0.114102   \n",
       "\n",
       "       price_off_peak_fix  price_peak_fix  price_mid_peak_fix  \n",
       "count       193002.000000   193002.000000       193002.000000  \n",
       "mean            43.334477       10.622875            6.409984  \n",
       "std              5.410297       12.841895            7.773592  \n",
       "min              0.000000        0.000000            0.000000  \n",
       "25%             40.728885        0.000000            0.000000  \n",
       "50%             44.266930        0.000000            0.000000  \n",
       "75%             44.444710       24.339581           16.226389  \n",
       "max             59.444710       36.490692           17.458221  "
      ]
     },
     "execution_count": 35,
     "metadata": {},
     "output_type": "execute_result"
    }
   ],
   "source": [
    "price_df.describe()"
   ]
  },
  {
   "cell_type": "code",
   "execution_count": 36,
   "id": "2321ca6b",
   "metadata": {},
   "outputs": [
    {
     "name": "stdout",
     "output_type": "stream",
     "text": [
      "<class 'pandas.core.frame.DataFrame'>\n",
      "RangeIndex: 14606 entries, 0 to 14605\n",
      "Data columns (total 26 columns):\n",
      " #   Column                          Non-Null Count  Dtype  \n",
      "---  ------                          --------------  -----  \n",
      " 0   id                              14606 non-null  object \n",
      " 1   channel_sales                   14606 non-null  object \n",
      " 2   cons_12m                        14606 non-null  int64  \n",
      " 3   cons_gas_12m                    14606 non-null  int64  \n",
      " 4   cons_last_month                 14606 non-null  int64  \n",
      " 5   date_activ                      14606 non-null  object \n",
      " 6   date_end                        14606 non-null  object \n",
      " 7   date_modif_prod                 14606 non-null  object \n",
      " 8   date_renewal                    14606 non-null  object \n",
      " 9   forecast_cons_12m               14606 non-null  float64\n",
      " 10  forecast_cons_year              14606 non-null  int64  \n",
      " 11  forecast_discount_energy        14606 non-null  float64\n",
      " 12  forecast_meter_rent_12m         14606 non-null  float64\n",
      " 13  forecast_price_energy_off_peak  14606 non-null  float64\n",
      " 14  forecast_price_energy_peak      14606 non-null  float64\n",
      " 15  forecast_price_pow_off_peak     14606 non-null  float64\n",
      " 16  has_gas                         14606 non-null  object \n",
      " 17  imp_cons                        14606 non-null  float64\n",
      " 18  margin_gross_pow_ele            14606 non-null  float64\n",
      " 19  margin_net_pow_ele              14606 non-null  float64\n",
      " 20  nb_prod_act                     14606 non-null  int64  \n",
      " 21  net_margin                      14606 non-null  float64\n",
      " 22  num_years_antig                 14606 non-null  int64  \n",
      " 23  origin_up                       14606 non-null  object \n",
      " 24  pow_max                         14606 non-null  float64\n",
      " 25  churn                           14606 non-null  int64  \n",
      "dtypes: float64(11), int64(7), object(8)\n",
      "memory usage: 2.9+ MB\n"
     ]
    }
   ],
   "source": [
    "client_df.info()"
   ]
  },
  {
   "cell_type": "code",
   "execution_count": 38,
   "id": "b6b376d2",
   "metadata": {},
   "outputs": [
    {
     "name": "stdout",
     "output_type": "stream",
     "text": [
      "<class 'pandas.core.frame.DataFrame'>\n",
      "RangeIndex: 193002 entries, 0 to 193001\n",
      "Data columns (total 8 columns):\n",
      " #   Column              Non-Null Count   Dtype  \n",
      "---  ------              --------------   -----  \n",
      " 0   id                  193002 non-null  object \n",
      " 1   price_date          193002 non-null  object \n",
      " 2   price_off_peak_var  193002 non-null  float64\n",
      " 3   price_peak_var      193002 non-null  float64\n",
      " 4   price_mid_peak_var  193002 non-null  float64\n",
      " 5   price_off_peak_fix  193002 non-null  float64\n",
      " 6   price_peak_fix      193002 non-null  float64\n",
      " 7   price_mid_peak_fix  193002 non-null  float64\n",
      "dtypes: float64(6), object(2)\n",
      "memory usage: 11.8+ MB\n"
     ]
    }
   ],
   "source": [
    "price_df.info()"
   ]
  },
  {
   "cell_type": "markdown",
   "id": "7190739b",
   "metadata": {},
   "source": [
    "## Data visualization"
   ]
  },
  {
   "cell_type": "code",
   "execution_count": 40,
   "id": "792a5c7e",
   "metadata": {},
   "outputs": [],
   "source": [
    "def plot_stacked_bars(dataframe, title_, size_=(18, 10), rot_=0, legend_=\"upper right\"):\n",
    "    \"\"\"\n",
    "    Plot stacked bars with annotations\n",
    "    \"\"\"\n",
    "    ax = dataframe.plot(\n",
    "        kind=\"bar\",\n",
    "        stacked=True,\n",
    "        figsize=size_,\n",
    "        rot=rot_,\n",
    "        title=title_\n",
    "    )\n",
    "\n",
    "    # Annotate bars\n",
    "    annotate_stacked_bars(ax, textsize=14)\n",
    "    # Rename legend\n",
    "    plt.legend([\"Retention\", \"Churn\"], loc=legend_)\n",
    "    # Labels\n",
    "    plt.ylabel(\"Company base (%)\")\n",
    "    plt.show()"
   ]
  },
  {
   "cell_type": "code",
   "execution_count": 41,
   "id": "515f71f3",
   "metadata": {},
   "outputs": [],
   "source": [
    "def annotate_stacked_bars(ax, pad=0.99, colour=\"white\", textsize=13):\n",
    "    \"\"\"\n",
    "    Add value annotations to the bars\n",
    "    \"\"\"\n",
    "\n",
    "    # Iterate over the plotted rectanges/bars\n",
    "    for p in ax.patches:\n",
    "        \n",
    "        # Calculate annotation\n",
    "        value = str(round(p.get_height(),1))\n",
    "        # If value is 0 do not annotate\n",
    "        if value == '0.0':\n",
    "            continue\n",
    "        ax.annotate(\n",
    "            value,\n",
    "            ((p.get_x()+ p.get_width()/2)*pad-0.05, (p.get_y()+p.get_height()/2)*pad),\n",
    "            color=colour,\n",
    "            size=textsize\n",
    "        )"
   ]
  },
  {
   "cell_type": "code",
   "execution_count": 42,
   "id": "667b59f6",
   "metadata": {},
   "outputs": [],
   "source": [
    "def plot_distribution(dataframe, column, ax, bins_=50):\n",
    "    \"\"\"\n",
    "    Plot variable distirbution in a stacked histogram of churned or retained company\n",
    "    \"\"\"\n",
    "    # Create a temporal dataframe with the data to be plot\n",
    "    temp = pd.DataFrame({\"Retention\": dataframe[dataframe[\"churn\"]==0][column],\n",
    "    \"Churn\":dataframe[dataframe[\"churn\"]==1][column]})\n",
    "    # Plot the histogram\n",
    "    temp[[\"Retention\",\"Churn\"]].plot(kind='hist', bins=bins_, ax=ax, stacked=True)\n",
    "    # X-axis label\n",
    "    ax.set_xlabel(column)\n",
    "    # Change the x-axis to plain style\n",
    "    ax.ticklabel_format(style='plain', axis='x')"
   ]
  },
  {
   "cell_type": "code",
   "execution_count": 43,
   "id": "9752867c",
   "metadata": {},
   "outputs": [
    {
     "data": {
      "image/png": "[encoded data removed]",
      "text/plain": [
       "<Figure size 360x360 with 1 Axes>"
      ]
     },
     "metadata": {
      "needs_background": "light"
     },
     "output_type": "display_data"
    }
   ],
   "source": [
    "churn = client_df[['id', 'churn']]\n",
    "churn.columns = ['Companies', 'churn']\n",
    "churn_total = churn.groupby(churn['churn']).count()\n",
    "churn_percentage = churn_total / churn_total.sum() * 100\n",
    "plot_stacked_bars(churn_percentage.transpose(), \"Churning status\", (5, 5), legend_=\"lower right\")"
   ]
  },
  {
   "cell_type": "code",
   "execution_count": 44,
   "id": "f774a52d",
   "metadata": {},
   "outputs": [
    {
     "data": {
      "image/png": "[encoded data removed]",
      "text/plain": [
       "<Figure size 1296x360 with 1 Axes>"
      ]
     },
     "metadata": {
      "needs_background": "light"
     },
     "output_type": "display_data"
    }
   ],
   "source": [
    "consumption = client_df[['id', 'cons_12m', 'cons_gas_12m', 'cons_last_month', 'imp_cons', 'has_gas', 'churn']]\n",
    "\n",
    "fig, axs = plt.subplots(nrows=1, figsize=(18, 5))\n",
    "\n",
    "plot_distribution(consumption, 'cons_12m', axs)"
   ]
  },
  {
   "cell_type": "code",
   "execution_count": null,
   "id": "6fc8665a",
   "metadata": {},
   "outputs": [],
   "source": []
  }
 ],
 "metadata": {
  "kernelspec": {
   "display_name": "Python 3 (ipykernel)",
   "language": "python",
   "name": "python3"
  },
  "language_info": {
   "codemirror_mode": {
    "name": "ipython",
    "version": 3
   },
   "file_extension": ".py",
   "mimetype": "text/x-python",
   "name": "python",
   "nbconvert_exporter": "python",
   "pygments_lexer": "ipython3",
   "version": "3.8.12"
  },
  "toc": {
   "base_numbering": 1,
   "nav_menu": {},
   "number_sections": true,
   "sideBar": true,
   "skip_h1_title": false,
   "title_cell": "Table of Contents",
   "title_sidebar": "Contents",
   "toc_cell": false,
   "toc_position": {},
   "toc_section_display": true,
   "toc_window_display": false
  }
 },
 "nbformat": 4,
 "nbformat_minor": 5
}
